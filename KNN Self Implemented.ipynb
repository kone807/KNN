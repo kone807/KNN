{
 "cells": [
  {
   "cell_type": "code",
   "execution_count": 14,
   "metadata": {},
   "outputs": [],
   "source": [
    "from sklearn import datasets\n",
    "from sklearn.model_selection import train_test_split, cross_val_score\n",
    "from sklearn.metrics import accuracy_score\n",
    "from collections import Counter"
   ]
  },
  {
   "cell_type": "code",
   "execution_count": 11,
   "metadata": {},
   "outputs": [],
   "source": [
    "dataset = datasets.load_breast_cancer()\n",
    "x_train, x_test, y_train, y_test = train_test_split(dataset.data, dataset.target, test_size=0.2, random_state=0)"
   ]
  },
  {
   "cell_type": "code",
   "execution_count": 15,
   "metadata": {},
   "outputs": [],
   "source": [
    "class KNN:\n",
    "    \n",
    "    def __init__(self, k):\n",
    "        \n",
    "        self.k=k\n",
    "    \n",
    "    def fit(self, x, y):\n",
    "        return\n",
    "    \n",
    "    def predict_single_point(self, x_train, y_train, data_point):\n",
    "        \n",
    "        distances = []\n",
    "        \n",
    "        for i in range(len(x_train)):\n",
    "            \n",
    "            distance = ((x_train[i,:]-data_point)**2).sum()\n",
    "            \n",
    "            ## store distance and the point index\n",
    "            distances.append([distance,i])\n",
    "            \n",
    "        ## sort these distances\n",
    "        distances=sorted(distances)\n",
    "        \n",
    "        ## find classifications of these points\n",
    "        labels = []\n",
    "        \n",
    "        for i in range(self.k):\n",
    "            labels.append(y_train[distances[i][1]])\n",
    "        \n",
    "        ## pick THE MOST common element (1),\n",
    "        ## then pick the 0'th tuple and the 0'th entry of that tuple\n",
    "        return Counter(labels).most_common(1)[0][0]\n",
    "    \n",
    "    def predict(self, x_train, y_train, x_test):\n",
    "        \n",
    "        predictions = []\n",
    "        \n",
    "        for data_point in x_test:\n",
    "            predictions.append(self.predict_single_point(x_train, y_train, data_point))\n",
    "            \n",
    "        return predictions"
   ]
  },
  {
   "cell_type": "code",
   "execution_count": 18,
   "metadata": {},
   "outputs": [
    {
     "data": {
      "text/plain": [
       "0.9473684210526315"
      ]
     },
     "execution_count": 18,
     "metadata": {},
     "output_type": "execute_result"
    }
   ],
   "source": [
    "model = KNN(7)\n",
    "\n",
    "y_pred = model.predict(x_train, y_train, x_test)\n",
    "accuracy_score(y_test, y_pred)"
   ]
  },
  {
   "cell_type": "code",
   "execution_count": null,
   "metadata": {},
   "outputs": [],
   "source": []
  }
 ],
 "metadata": {
  "kernelspec": {
   "display_name": "Python 3",
   "language": "python",
   "name": "python3"
  },
  "language_info": {
   "codemirror_mode": {
    "name": "ipython",
    "version": 3
   },
   "file_extension": ".py",
   "mimetype": "text/x-python",
   "name": "python",
   "nbconvert_exporter": "python",
   "pygments_lexer": "ipython3",
   "version": "3.8.5"
  }
 },
 "nbformat": 4,
 "nbformat_minor": 4
}
